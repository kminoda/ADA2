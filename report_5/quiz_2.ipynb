{
 "cells": [
  {
   "cell_type": "code",
   "execution_count": 1,
   "metadata": {},
   "outputs": [],
   "source": [
    "import numpy as np\n",
    "import pandas as pd\n",
    "import itertools\n",
    "from tqdm import tqdm_notebook as tqdm\n",
    "import time"
   ]
  },
  {
   "cell_type": "markdown",
   "metadata": {},
   "source": [
    "# function"
   ]
  },
  {
   "cell_type": "code",
   "execution_count": 2,
   "metadata": {},
   "outputs": [],
   "source": [
    "def load_data(path,label):\n",
    "    data = pd.read_csv(path,header=None)\n",
    "    data['label'] = label\n",
    "    return data"
   ]
  },
  {
   "cell_type": "code",
   "execution_count": 3,
   "metadata": {},
   "outputs": [],
   "source": [
    "def load_train():\n",
    "    df = pd.DataFrame()\n",
    "    for label in range(10):\n",
    "        path = 'digit/digit_train{0}.csv'.format(label)\n",
    "        df_temp = load_data(path,label)\n",
    "        df = pd.concat([df,df_temp])\n",
    "    X = df.drop(['label'],axis=1)\n",
    "    y = df['label']\n",
    "    return (X.values,y.values)\n",
    "\n",
    "def load_test():\n",
    "    df = pd.DataFrame()\n",
    "    for label in range(10):\n",
    "        path = 'digit/digit_test{0}.csv'.format(label)\n",
    "        df_temp = load_data(path,label)\n",
    "        df = pd.concat([df,df_temp])\n",
    "    X = df.drop(['label'],axis=1)\n",
    "    y = df['label']\n",
    "    return (X.values,y.values)"
   ]
  },
  {
   "cell_type": "code",
   "execution_count": 4,
   "metadata": {},
   "outputs": [],
   "source": [
    "def meshgrid_ij(X):\n",
    "    X = np.array([X])\n",
    "    shape = X.shape\n",
    "    X_T = X.reshape((shape[1],shape[0],shape[2]))\n",
    "    return np.broadcast_arrays(X,X_T)"
   ]
  },
  {
   "cell_type": "code",
   "execution_count": 5,
   "metadata": {},
   "outputs": [],
   "source": [
    "def get_K_matrix(X,h=1):\n",
    "    XX,YY = meshgrid_ij(X)\n",
    "    n = XX.shape[0]\n",
    "    K = [[np.exp(-np.sum((XX[i,j,:]-YY[i,j,:])**2)/2/h**2) for i in range(n)] for j in range(n)]\n",
    "    return K"
   ]
  },
  {
   "cell_type": "code",
   "execution_count": 76,
   "metadata": {},
   "outputs": [],
   "source": [
    "def predict(x,theta,X_train,h=1):\n",
    "    predict = np.sum(theta.T*np.exp(-np.sum((x-X_train)**2\n",
    "                                                 ,axis=1)/2/1**2)\n",
    "                     ,axis=1)\n",
    "    return np.argmax(predict)"
   ]
  },
  {
   "cell_type": "code",
   "execution_count": 80,
   "metadata": {},
   "outputs": [],
   "source": [
    "def get_acc(pred,test):\n",
    "    n = len(pred)\n",
    "    return sum(pred==test)/n"
   ]
  },
  {
   "cell_type": "markdown",
   "metadata": {},
   "source": [
    "# dataset"
   ]
  },
  {
   "cell_type": "code",
   "execution_count": 69,
   "metadata": {},
   "outputs": [],
   "source": [
    "X_train,label_train = load_train()\n",
    "X_test,label_test = load_test()\n",
    "y_train = pd.get_dummies(label_train, sparse=True).values\n",
    "y_test = pd.get_dummies(label_test, sparse=True).values"
   ]
  },
  {
   "cell_type": "markdown",
   "metadata": {},
   "source": [
    "# predict"
   ]
  },
  {
   "cell_type": "code",
   "execution_count": 9,
   "metadata": {},
   "outputs": [
    {
     "name": "stdout",
     "output_type": "stream",
     "text": [
      "CPU times: user 4min 52s, sys: 1.29 s, total: 4min 53s\n",
      "Wall time: 4min 55s\n"
     ]
    }
   ],
   "source": [
    "%%time\n",
    "K = get_K_matrix(X_train,)"
   ]
  },
  {
   "cell_type": "code",
   "execution_count": 27,
   "metadata": {},
   "outputs": [],
   "source": [
    "%%time\n",
    "# calculate theta\n",
    "theta = np.linalg.inv(K)@y_train"
   ]
  },
  {
   "cell_type": "code",
   "execution_count": 77,
   "metadata": {},
   "outputs": [
    {
     "data": {
      "application/vnd.jupyter.widget-view+json": {
       "model_id": "190d390f01cd47ec8ea86db84d34b36e",
       "version_major": 2,
       "version_minor": 0
      },
      "text/plain": [
       "HBox(children=(IntProgress(value=0, max=2000), HTML(value='')))"
      ]
     },
     "metadata": {},
     "output_type": "display_data"
    },
    {
     "name": "stdout",
     "output_type": "stream",
     "text": [
      "\n"
     ]
    }
   ],
   "source": [
    "label_pred = []\n",
    "for x in tqdm(X_test):\n",
    "    label_pred.append(predict(x,theta,X_train))"
   ]
  },
  {
   "cell_type": "code",
   "execution_count": 83,
   "metadata": {},
   "outputs": [
    {
     "name": "stdout",
     "output_type": "stream",
     "text": [
      "accuracy: 96.5%\n"
     ]
    }
   ],
   "source": [
    "acc = get_acc(label_pred,label_test)\n",
    "print('accuracy: {0}%'.format(acc*100))"
   ]
  },
  {
   "cell_type": "code",
   "execution_count": null,
   "metadata": {},
   "outputs": [],
   "source": []
  }
 ],
 "metadata": {
  "kernelspec": {
   "display_name": "Python 3",
   "language": "python",
   "name": "python3"
  },
  "language_info": {
   "codemirror_mode": {
    "name": "ipython",
    "version": 3
   },
   "file_extension": ".py",
   "mimetype": "text/x-python",
   "name": "python",
   "nbconvert_exporter": "python",
   "pygments_lexer": "ipython3",
   "version": "3.6.7"
  }
 },
 "nbformat": 4,
 "nbformat_minor": 2
}
