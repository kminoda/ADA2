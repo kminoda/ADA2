{
 "cells": [
  {
   "cell_type": "markdown",
   "metadata": {},
   "source": [
    "# 概要"
   ]
  },
  {
   "cell_type": "markdown",
   "metadata": {},
   "source": [
    "## 導出\n",
    "ガウスカーネルモデルを用いる\n",
    "$$\n",
    "f_{\\theta}(x)=\\sum_{j=1}^n \\theta_j K(x,x_j)\\\\\n",
    "K(x,c)=\\exp\\left(-\\frac{||x-c||^2}{2h^2}\\right)\n",
    "$$\n",
    "最適化問題はこの通り。\n",
    "$$\n",
    "    \\min_{\\theta,z}[f(\\theta)+\\lambda||z||_1]~~\\rm{subject~to}~~\\it{}\\theta-z=0\\\\\n",
    "    L(\\theta,z,u)=||K\\theta-y||^2+\\lambda||z||_1+u^T(\\theta-z)+\\frac{1}{2}||\\theta-z||^2\n",
    "$$\n",
    "よって更新式は以下のように求まる。\n",
    "\n",
    "$$\n",
    "    \\theta^{(k+1)} = \\mathop{\\rm argmin}\\limits_{\\theta}L(\\theta,z^{(k)},u^{(k)}) \\\\\n",
    "    z^{(k+1)} = \\mathop{\\rm argmin}\\limits_{\\theta}L(\\theta^{(k+1)},z,u^{(k)}) \\\\\n",
    "    u^{(k+1)} = u^{(k)} + \\theta^{(k+1)} - z^{(k+1)}\n",
    "$$\n"
   ]
  },
  {
   "cell_type": "markdown",
   "metadata": {},
   "source": [
    "ここで\n",
    "$$\n",
    "\\frac{\\partial L}{\\partial \\theta} = 2K^T(K\\theta-y)+u+\\theta-z\\\\\n",
    "$$\n",
    "よって更新式は、\n",
    "$$\n",
    "\\theta^{(k+1)} = (2K^TK+I)^{-1}(z^{(k)}-u^{(k)}+2K^Ty) \\\\\n",
    "z^{(k+1)} = \\max(0,\\theta^{(k+1)}+u^{(k)}-\\lambda) + \\min(0,\\theta^{(k+1)}+u^{(k)}+\\lambda)\\\\\n",
    "u^{(k+1)} = u^{(k)} + \\theta^{(k+1)}- z^{(k+1)}  \n",
    "$$"
   ]
  },
  {
   "cell_type": "markdown",
   "metadata": {},
   "source": [
    "## 結果"
   ]
  },
  {
   "cell_type": "markdown",
   "metadata": {},
   "source": [
    "訓練データ50個を用い、$h=1,\\lambda=0.03$で学習したところ、$\\theta$（長さ50のベクトル）は50個中25個程度の要素がゼロになり、疎であることが確認できた。"
   ]
  },
  {
   "cell_type": "markdown",
   "metadata": {},
   "source": [
    "# コード"
   ]
  },
  {
   "cell_type": "markdown",
   "metadata": {},
   "source": [
    "## 準備"
   ]
  },
  {
   "cell_type": "code",
   "execution_count": 40,
   "metadata": {},
   "outputs": [],
   "source": [
    "import numpy as np\n",
    "import pandas as pd\n",
    "import matplotlib.pylab as plt\n",
    "import itertools"
   ]
  },
  {
   "cell_type": "code",
   "execution_count": 131,
   "metadata": {},
   "outputs": [],
   "source": [
    "Kernel = lambda x,c: np.exp(-np.abs(np.sum((x-c)**2))/(2*h**2))\n",
    "\n",
    "def next_step(theta_prev,z_prev,u_prev,K,y,lam):\n",
    "    n = theta_prev.size\n",
    "    \n",
    "    # 1. の更新式を元にパラメータを更新\n",
    "    theta_next = np.linalg.inv(2*K.T@K+np.eye(n))@(z_prev - u_prev + 2*K.T@y)\n",
    "    z_next = np.max([np.zeros_like(theta_next),\n",
    "                     theta_next+u_prev-lam],\n",
    "                    axis=0) + np.min([np.zeros_like(theta_next),\n",
    "                                     theta_next+u_prev+lam],\n",
    "                                     axis=0)\n",
    "    u_next = u_prev + theta_next - z_next\n",
    "    \n",
    "    return theta_next,z_next,u_next\n",
    "\n",
    "def recursive(theta_init,z_init,u_init,K,y,lam,eps):\n",
    "    theta_prev = theta_init\n",
    "    z_prev = z_init\n",
    "    u_prev = u_init\n",
    "\n",
    "    while(True):\n",
    "        theta_next,z_next,u_next = next_step(theta_prev,z_prev,u_prev,K,y,lam) # 更新\n",
    "        \n",
    "        if np.max(np.abs(u_next-u_prev))<eps: # uが収束したらbreak\n",
    "            break\n",
    "        theta_prev,z_prev,u_prev = theta_next,z_next,u_next\n",
    "    \n",
    "    return theta_next,z_next,u_next\n",
    "\n",
    "def get_K(Kernel,x):\n",
    "    n = len(x)\n",
    "    \n",
    "    K = np.zeros([n,n])\n",
    "    list_ij = np.arange(0,n-1,1)\n",
    "    for i, j in itertools.product(list_ij, list_ij):\n",
    "        x_i,x_j = x[i],x[j]\n",
    "        K[i,j] = Kernel(x_i,x_j)\n",
    "    return K\n",
    "\n",
    "def sparse_gauss_kernel_regression(x_obs,y,h,lam,eps):\n",
    "    n = len(x_obs)\n",
    "    \n",
    "    # カーネル行列の定義\n",
    "    Kernel = lambda x,c: np.exp(-np.abs(np.sum((x-c)**2))/(2*h**2))\n",
    "    K = get_K(Kernel,x_obs)\n",
    "    \n",
    "    # パラメータ初期値\n",
    "    theta_init = np.zeros(n)\n",
    "    z_init = np.zeros(n)\n",
    "    u_init = np.zeros(n)\n",
    "    \n",
    "    # パラメータを反復法により求める\n",
    "    theta,z,u = recursive(theta_init,z_init,u_init,K,y,lam,eps)\n",
    "    \n",
    "    # 学習したパラメータを用いて予測関数を定義\n",
    "    def func(x):\n",
    "        y = 0\n",
    "        for i in range(n):\n",
    "            y += theta[i]*Kernel(x,x_obs[i])\n",
    "        return y\n",
    "    \n",
    "    \n",
    "    return theta,z,u,func\n"
   ]
  },
  {
   "cell_type": "code",
   "execution_count": 132,
   "metadata": {},
   "outputs": [
    {
     "data": {
      "text/plain": [
       "[<matplotlib.lines.Line2D at 0x12068a1d0>]"
      ]
     },
     "execution_count": 132,
     "metadata": {},
     "output_type": "execute_result"
    },
    {
     "data": {
      "image/png": "[encoded data removed]",
      "text/plain": [
       "<Figure size 432x288 with 1 Axes>"
      ]
     },
     "metadata": {
      "needs_background": "light"
     },
     "output_type": "display_data"
    }
   ],
   "source": [
    "def generate_sample(xmin, xmax, sample_size):\n",
    "    x = np.linspace(start=xmin, stop=xmax, num=sample_size)\n",
    "    pix = np.pi * x\n",
    "    target = np.sin(pix) / pix + 0.1 * x\n",
    "    noise = 0.05 * np.random.normal(loc=0., scale=1., size=sample_size)\n",
    "    return x, target + noise\n",
    "\n",
    "def calc_design_matrix(x, c, h):\n",
    "    return np.exp(-(x[None] - c[:, None]) ** 2 / (2 * h ** 2))\n",
    "\n",
    "\n",
    "# create sample\n",
    "sample_size = 50\n",
    "xmin, xmax = -3, 3\n",
    "x, y = generate_sample(xmin=xmin, xmax=xmax, sample_size=sample_size)\n",
    "\n",
    "# calculate design matrix\n",
    "h = 0.1\n",
    "k = calc_design_matrix(x, x, h)\n",
    "\n",
    "# solve the least square problem\n",
    "l = 0.3\n",
    "theta = np.linalg.solve(\n",
    "    k.T.dot(k) + l * np.identity(len(k)),\n",
    "    k.T.dot(y[:, None]))\n",
    "\n",
    "# create data to visualize the prediction\n",
    "X = np.linspace(start=xmin, stop=xmax, num=5000)\n",
    "K = calc_design_matrix(x, X, h)\n",
    "prediction = K.dot(theta)\n",
    "\n",
    "# visualization\n",
    "plt.clf()\n",
    "plt.scatter(x, y, c='green', marker='o')\n",
    "plt.plot(X, prediction)\n",
    "#plt.savefig('lecture2-p44.png')"
   ]
  },
  {
   "cell_type": "code",
   "execution_count": 133,
   "metadata": {},
   "outputs": [
    {
     "data": {
      "text/plain": [
       "(array([-3.        , -2.87755102, -2.75510204, -2.63265306, -2.51020408,\n",
       "        -2.3877551 , -2.26530612, -2.14285714, -2.02040816, -1.89795918,\n",
       "        -1.7755102 , -1.65306122, -1.53061224, -1.40816327, -1.28571429,\n",
       "        -1.16326531, -1.04081633, -0.91836735, -0.79591837, -0.67346939,\n",
       "        -0.55102041, -0.42857143, -0.30612245, -0.18367347, -0.06122449,\n",
       "         0.06122449,  0.18367347,  0.30612245,  0.42857143,  0.55102041,\n",
       "         0.67346939,  0.79591837,  0.91836735,  1.04081633,  1.16326531,\n",
       "         1.28571429,  1.40816327,  1.53061224,  1.65306122,  1.7755102 ,\n",
       "         1.89795918,  2.02040816,  2.14285714,  2.26530612,  2.3877551 ,\n",
       "         2.51020408,  2.63265306,  2.75510204,  2.87755102,  3.        ]),\n",
       " array([-0.28131195, -0.24888642, -0.23625846, -0.12765854, -0.17478791,\n",
       "        -0.08980139, -0.15296383, -0.1698402 , -0.1849272 , -0.31829168,\n",
       "        -0.35165942, -0.34304768, -0.40772743, -0.33021377, -0.30956602,\n",
       "        -0.2319064 , -0.2334375 , -0.05582234,  0.13363963,  0.34205213,\n",
       "         0.48603942,  0.65038735,  0.74091194,  0.91306623,  0.92947836,\n",
       "         0.98351288,  0.87019753,  0.90794279,  0.75092213,  0.52208256,\n",
       "         0.42712132,  0.30247548,  0.12834687, -0.05491499, -0.07312653,\n",
       "        -0.08909597, -0.12113022, -0.10072488, -0.00144076,  0.12755611,\n",
       "         0.15097387,  0.1814867 ,  0.30940073,  0.30660594,  0.39195465,\n",
       "         0.38360411,  0.40994801,  0.30437624,  0.38472727,  0.30586101]))"
      ]
     },
     "execution_count": 133,
     "metadata": {},
     "output_type": "execute_result"
    }
   ],
   "source": [
    "x,y"
   ]
  },
  {
   "cell_type": "code",
   "execution_count": 134,
   "metadata": {},
   "outputs": [],
   "source": [
    "# 予測関数とパラメータを求める\n",
    "theta,z,u,func = sparse_gauss_kernel_regression(x,y,1,0.03,eps=0.0001)"
   ]
  },
  {
   "cell_type": "code",
   "execution_count": 135,
   "metadata": {},
   "outputs": [
    {
     "data": {
      "text/plain": [
       "(array([-1.07535701e+00,  3.69117391e-05,  1.50390638e-05, -5.10208988e-06,\n",
       "        -2.20719403e-05,  3.14294157e-01,  6.11593026e-01,  5.69384662e-01,\n",
       "         2.23153590e-01, -3.18671079e-05, -2.00686502e-05, -6.36391103e-06,\n",
       "         7.46566475e-06, -3.77750479e-02, -5.78981381e-01, -8.29929841e-01,\n",
       "        -7.56793936e-01, -3.64380979e-01,  1.50840603e-05,  4.05325549e-07,\n",
       "        -1.65659782e-05, -3.41318934e-05,  1.14775899e-01,  6.99938388e-01,\n",
       "         9.85167355e-01,  9.36090521e-01,  5.58943879e-01, -7.77116540e-05,\n",
       "        -7.15276906e-05, -6.35361937e-05, -5.51622472e-05, -4.77624575e-05,\n",
       "        -4.68408222e-01, -7.56575475e-01, -7.20442040e-01, -3.69005847e-01,\n",
       "        -4.75600425e-05, -5.25177202e-05, -5.64506540e-05, -5.78847111e-05,\n",
       "        -5.55172779e-05,  3.50898245e-01,  5.73274550e-01,  4.91104676e-01,\n",
       "         8.31197836e-02,  2.97866702e-05,  5.78908189e-05,  8.65901238e-05,\n",
       "        -3.14401086e-01,  0.00000000e+00]),\n",
       " array([-1.07535701,  0.        ,  0.        ,  0.        ,  0.        ,\n",
       "         0.31429416,  0.61159303,  0.56938466,  0.22315359,  0.        ,\n",
       "         0.        ,  0.        ,  0.        , -0.03777505, -0.57898138,\n",
       "        -0.82992984, -0.75679394, -0.36438098,  0.        ,  0.        ,\n",
       "         0.        ,  0.        ,  0.1147759 ,  0.69993839,  0.98516736,\n",
       "         0.93609052,  0.55894388,  0.        ,  0.        ,  0.        ,\n",
       "         0.        ,  0.        , -0.46840822, -0.75657548, -0.72044204,\n",
       "        -0.36900585,  0.        ,  0.        ,  0.        ,  0.        ,\n",
       "         0.        ,  0.35089825,  0.57327455,  0.49110468,  0.08311978,\n",
       "         0.        ,  0.        ,  0.        , -0.31440109,  0.        ]),\n",
       " array([-0.03      , -0.01521655, -0.00070212,  0.01219487,  0.02248462,\n",
       "         0.03      ,  0.03      ,  0.03      ,  0.03      ,  0.01812515,\n",
       "         0.00775881, -0.0036085 , -0.01463626, -0.03      , -0.03      ,\n",
       "        -0.03      , -0.03      , -0.03      , -0.01946557, -0.0088148 ,\n",
       "         0.0029616 ,  0.01444573,  0.03      ,  0.03      ,  0.03      ,\n",
       "         0.03      ,  0.03      ,  0.01995432,  0.00916521, -0.00267707,\n",
       "        -0.01411432, -0.02374094, -0.03      , -0.03      , -0.03      ,\n",
       "        -0.03      , -0.01818111, -0.00741737,  0.00425765,  0.01541042,\n",
       "         0.02466633,  0.03      ,  0.03      ,  0.03      ,  0.03      ,\n",
       "         0.01483355,  0.00168952, -0.01347487, -0.03      ,  0.        ]))"
      ]
     },
     "execution_count": 135,
     "metadata": {},
     "output_type": "execute_result"
    }
   ],
   "source": [
    "theta,z,u"
   ]
  },
  {
   "cell_type": "code",
   "execution_count": 136,
   "metadata": {},
   "outputs": [
    {
     "data": {
      "text/plain": [
       "<matplotlib.legend.Legend at 0x1207d5470>"
      ]
     },
     "execution_count": 136,
     "metadata": {},
     "output_type": "execute_result"
    },
    {
     "data": {
      "image/png": "[encoded data removed]",
      "text/plain": [
       "<Figure size 432x288 with 1 Axes>"
      ]
     },
     "metadata": {
      "needs_background": "light"
     },
     "output_type": "display_data"
    }
   ],
   "source": [
    "# 学習結果を表示。\n",
    "y_pred = [func(x) for x in X]\n",
    "\n",
    "# visualization\n",
    "plt.clf()\n",
    "plt.scatter(x, y, c='green', marker='o', label='data set')\n",
    "plt.plot(X, y_pred, label='Learned function')\n",
    "plt.plot(X, np.sin(np.pi*X)/np.pi/X+0.1*X,label='True function')\n",
    "plt.legend()\n",
    "#plt.savefig('lecture2-p44.png')"
   ]
  },
  {
   "cell_type": "code",
   "execution_count": 137,
   "metadata": {},
   "outputs": [
    {
     "name": "stdout",
     "output_type": "stream",
     "text": [
      "# of non-zero parameters:24\n",
      "# of zero parameters:26\n"
     ]
    }
   ],
   "source": [
    "# 非ゼロデータ\n",
    "print('# of non-zero parameters:{0}'.format(sum(z!=0)))\n",
    "print('# of zero parameters:{0}'.format(sum(z==0)))"
   ]
  },
  {
   "cell_type": "code",
   "execution_count": null,
   "metadata": {},
   "outputs": [],
   "source": []
  }
 ],
 "metadata": {
  "kernelspec": {
   "display_name": "Python 3",
   "language": "python",
   "name": "python3"
  },
  "language_info": {
   "codemirror_mode": {
    "name": "ipython",
    "version": 3
   },
   "file_extension": ".py",
   "mimetype": "text/x-python",
   "name": "python",
   "nbconvert_exporter": "python",
   "pygments_lexer": "ipython3",
   "version": "3.6.7"
  }
 },
 "nbformat": 4,
 "nbformat_minor": 2
}
