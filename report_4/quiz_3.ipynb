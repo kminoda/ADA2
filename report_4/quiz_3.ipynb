{
 "cells": [
  {
   "cell_type": "code",
   "execution_count": 8,
   "metadata": {},
   "outputs": [],
   "source": [
    "import numpy as np\n",
    "import pandas as pd\n",
    "import matplotlib.pylab as plt"
   ]
  },
  {
   "cell_type": "code",
   "execution_count": 9,
   "metadata": {},
   "outputs": [],
   "source": [
    "#np.random.seed(seed=32)"
   ]
  },
  {
   "cell_type": "code",
   "execution_count": 10,
   "metadata": {},
   "outputs": [],
   "source": [
    "class TukeyRegression():\n",
    "    def __init__(self,phis,eta,eps=0.01,theta_init=[0,0],randomize=False):\n",
    "        self.phis = phis\n",
    "        self.eta = eta\n",
    "        self.theta = theta_init\n",
    "        self.n = len(phis)\n",
    "        self.eps = eps\n",
    "        if randomize:\n",
    "            self.theta = np.random.randn(len(theta_init))\n",
    "        self.theta_init = self.theta\n",
    "        \n",
    "    def fit(self,x,y,log=True):\n",
    "        self.m = len(x)\n",
    "        self.x = x\n",
    "        self.y = y\n",
    "        count = 0\n",
    "        while(True):\n",
    "            count += 1\n",
    "            theta_next = self.__next_step()\n",
    "            loss = self.__get_loss()\n",
    "            if log:\n",
    "                if count%20==0:\n",
    "                    print('#{0} iterations.  loss={1:.03f}'.format(count,loss))\n",
    "                    #print(self.w_tilde)\n",
    "            if loss < self.eps:\n",
    "                break\n",
    "            if count > 200:\n",
    "                print('Did not converge.')\n",
    "                break\n",
    "            self.theta = theta_next\n",
    "                \n",
    "    def predict(self):\n",
    "        return self.__f(self.x)\n",
    "    \n",
    "    def __get_loss(self):\n",
    "        loss = 0\n",
    "        for i in range(self.m):\n",
    "            r = self.__f(self.x[i])-self.y[i]\n",
    "            loss += self.__rho_tukey(r)\n",
    "        return loss\n",
    "    \n",
    "    def __next_step(self):\n",
    "        Phi = self.__get_Phi()\n",
    "        W_tilde = self.__get_W_tilde()\n",
    "        return np.linalg.inv(Phi.T@W_tilde@Phi)@Phi.T@W_tilde@self.y\n",
    "    \n",
    "    def __get_Phi(self):\n",
    "        return np.array([[phis[j](x[i]) for i in range(self.m)] for j in range(self.n)]).T       \n",
    "        \n",
    "    def __f(self,x):\n",
    "        if type(x)==np.ndarray:\n",
    "            x = x.tolist()\n",
    "        if type(x)==list:\n",
    "            m = len(x)\n",
    "            ans = [sum([self.phis[j](x[i])*self.theta[j] for j in range(self.n)]) for i in range(self.m)]\n",
    "        elif type(x)==int:\n",
    "            ans = sum([self.phis[j](x)*self.theta[j] for j in range(self.n)])\n",
    "        return ans\n",
    "    \n",
    "    def __get_r_tilde(self):\n",
    "        return [self.__f(self.x)[i] - self.y[i] for i in range(self.m)] \n",
    "    \n",
    "    def __get_W_tilde(self):\n",
    "        r_tilde = self.__get_r_tilde()\n",
    "        self.w_tilde = [self.__d_rho_tukey(r)/r for r in r_tilde]\n",
    "        return np.diag(self.w_tilde)\n",
    "    \n",
    "    def __rho_tukey(self,r):\n",
    "        if abs(r)<self.eta:\n",
    "            return (1-(1-r**2/self.eta**2)**3)/6\n",
    "        else:\n",
    "            return 1/6    \n",
    "        \n",
    "    def __d_rho_tukey(self,r):\n",
    "        if abs(r)<self.eta:\n",
    "            return (1-r**2/self.eta**2)**2/self.eta**2\n",
    "        else:\n",
    "            return 0"
   ]
  },
  {
   "cell_type": "code",
   "execution_count": 11,
   "metadata": {},
   "outputs": [],
   "source": [
    "phis = [lambda x:1, lambda x:x]"
   ]
  },
  {
   "cell_type": "code",
   "execution_count": 12,
   "metadata": {},
   "outputs": [],
   "source": [
    "x = [0,1,2,3,4,5,6,7,8,9]\n",
    "y = [2.1,4.0,5.9,7.9,10.0,16.2,14.1,15.9,18.1,20.1]"
   ]
  },
  {
   "cell_type": "code",
   "execution_count": 15,
   "metadata": {},
   "outputs": [
    {
     "name": "stdout",
     "output_type": "stream",
     "text": [
      "#20 iterations.  loss=0.073\n",
      "#40 iterations.  loss=0.073\n",
      "#60 iterations.  loss=0.074\n",
      "#80 iterations.  loss=0.072\n",
      "#100 iterations.  loss=0.072\n",
      "#120 iterations.  loss=0.073\n",
      "#140 iterations.  loss=0.071\n",
      "#160 iterations.  loss=0.074\n",
      "#180 iterations.  loss=0.073\n",
      "#200 iterations.  loss=0.073\n",
      "Did not converge.\n"
     ]
    }
   ],
   "source": [
    "tr = TukeyRegression(phis,eta=10,randomize=True)\n",
    "tr.fit(x,y)"
   ]
  },
  {
   "cell_type": "code",
   "execution_count": 16,
   "metadata": {},
   "outputs": [
    {
     "data": {
      "text/plain": [
       "<matplotlib.collections.PathCollection at 0x114f447b8>"
      ]
     },
     "execution_count": 16,
     "metadata": {},
     "output_type": "execute_result"
    },
    {
     "data": {
      "image/png": "[encoded data removed]",
      "text/plain": [
       "<Figure size 432x288 with 1 Axes>"
      ]
     },
     "metadata": {
      "needs_background": "light"
     },
     "output_type": "display_data"
    }
   ],
   "source": [
    "plt.plot(tr.predict())\n",
    "plt.scatter(x,y)"
   ]
  },
  {
   "cell_type": "code",
   "execution_count": 67,
   "metadata": {},
   "outputs": [
    {
     "data": {
      "text/plain": [
       "array([ 1.77436028, -0.98274957])"
      ]
     },
     "execution_count": 67,
     "metadata": {},
     "output_type": "execute_result"
    }
   ],
   "source": [
    "tr.theta_init"
   ]
  }
 ],
 "metadata": {
  "kernelspec": {
   "display_name": "Python 3",
   "language": "python",
   "name": "python3"
  },
  "language_info": {
   "codemirror_mode": {
    "name": "ipython",
    "version": 3
   },
   "file_extension": ".py",
   "mimetype": "text/x-python",
   "name": "python",
   "nbconvert_exporter": "python",
   "pygments_lexer": "ipython3",
   "version": "3.6.7"
  }
 },
 "nbformat": 4,
 "nbformat_minor": 2
}
