{
 "cells": [
  {
   "cell_type": "markdown",
   "metadata": {},
   "source": [
    "Kernel Ridge Regression\n"
   ]
  },
  {
   "cell_type": "markdown",
   "metadata": {},
   "source": [
    "# import"
   ]
  },
  {
   "cell_type": "code",
   "execution_count": 1,
   "metadata": {},
   "outputs": [],
   "source": [
    "import numpy as np\n",
    "import pandas as pd\n",
    "import matplotlib.pylab as plt\n",
    "import itertools\n",
    "from sklearn.datasets import load_boston\n",
    "from sklearn.model_selection import train_test_split\n",
    "from tqdm import tqdm_notebook as tqdm\n",
    "import time"
   ]
  },
  {
   "cell_type": "markdown",
   "metadata": {},
   "source": [
    "# functions"
   ]
  },
  {
   "cell_type": "code",
   "execution_count": 2,
   "metadata": {},
   "outputs": [],
   "source": [
    "def get_func(theta, x_obs, h, Kernel):\n",
    "    \"\"\"\n",
    "    Parameters:\n",
    "    --------------\n",
    "    theta: np.array\n",
    "        parameter\n",
    "    x_obs: np.matrix\n",
    "        observed x\n",
    "    K: func\n",
    "        kernel function (default: gauss kernel)\n",
    "    h: double\n",
    "        gauss range\n",
    "        \n",
    "    Returns:\n",
    "    --------------\n",
    "    func_linear_model: func\n",
    "            predicting function\n",
    "    \"\"\"\n",
    "    def func_linear_model(x):\n",
    "        \"\"\"\n",
    "        Parameters:\n",
    "        --------------\n",
    "        x: np.array\n",
    "            x\n",
    "            \n",
    "        Returns:\n",
    "        --------------\n",
    "        ans: double\n",
    "            predicted x\n",
    "        \"\"\"\n",
    "        n = theta.size\n",
    "\n",
    "        assert x_obs.shape[0] == n, 'x_obs is invalid'\n",
    "\n",
    "        ans = 0\n",
    "        for j in range(n):\n",
    "            ans += theta[j]*Kernel(x,x_obs[j])\n",
    "        return ans\n",
    "        \n",
    "    return func_linear_model\n",
    "\n",
    "def get_theta_opt(x_obs,y_obs,lam,Kernel):\n",
    "    n = y_obs.size\n",
    "    \n",
    "    K_mat = np.zeros([n,n])\n",
    "    \n",
    "    list_ij = [i for i in range(n)]\n",
    "    for i, j in itertools.product(list_ij, list_ij):\n",
    "        x_i,x_j = x_obs[i,:],x_obs[j,:]\n",
    "        K_mat[i,j] = Kernel(x_i,x_j)\n",
    "\n",
    "    theta_opt = np.linalg.inv(K_mat@K_mat+lam*np.eye(n))@np.transpose(K_mat)@y_obs\n",
    "    return theta_opt\n",
    "\n",
    "def get_loss(x_val, y_val, func):\n",
    "    loss = 0\n",
    "    for i in range(y_val.size):\n",
    "        x_pred = func(x_val[i,:])\n",
    "        loss += (x_pred - y_val[i])**2\n",
    "    return loss/y_val.size\n",
    "\n",
    "def cross_validate(x_obs,y_obs,\n",
    "                   x_test,y_test,\n",
    "                   lam,k,h,\n",
    "                   K='gauss',silence=True):\n",
    "    \"\"\"\n",
    "    Parameters:\n",
    "    --------------\n",
    "    x_obs: np.matrix\n",
    "        observed x\n",
    "    y_obs: np.array\n",
    "        observed y\n",
    "    k: int\n",
    "        number of split\n",
    "    \"\"\"\n",
    "    n = y_obs.size\n",
    "    \n",
    "    # assert n%k==0, 'n%k is not 0.'\n",
    "    \n",
    "    if K=='gauss':\n",
    "        Kernel = lambda x,c: np.exp(-np.abs(np.sum((x-c)**2))/(2*h**2))\n",
    "    \n",
    "    loss_list = np.zeros(n//k) # store errors calculated in each step\n",
    "    func_list = [] # store functions calculated in each step\n",
    "    \n",
    "    if not silence:\n",
    "        print('===========================')\n",
    "        print('Parameters:\\n')\n",
    "        print('L2 regularization: lambda = {0}'.format(lam))\n",
    "        print('gauss range: h = {0}'.format(h))\n",
    "        print('# of data for validation: k = {0}'.format(k))\n",
    "        print('===========================')\n",
    "        print('Start calculating optimal parameters for each step.')\n",
    "    \n",
    "    for n_step in tqdm(range(n//k)):\n",
    "        # Z_i\n",
    "        x_val = x_obs[n_step*k:n_step*k+k,:]\n",
    "        y_val = y_obs[n_step*k:n_step*k+k]\n",
    "        \n",
    "        # delete Z_i from all dataset\n",
    "        x_obs_temp = np.delete(x_obs,np.s_[n_step*k:n_step*k+k],0)\n",
    "        y_obs_temp = np.delete(y_obs,np.s_[n_step*k:n_step*k+k],0)\n",
    "        \n",
    "        # calculate optimal parameters with the train data, and define temporary function\n",
    "        theta_opt_temp = get_theta_opt(x_obs_temp,y_obs_temp,lam,Kernel)\n",
    "        func_temp = get_func(theta_opt_temp, x_obs_temp, h, Kernel)\n",
    "        \n",
    "        # calculate the error with the rest data\n",
    "        loss_list[n_step] = get_loss(x_val, y_val, func_temp)\n",
    "        \n",
    "        func_list += [func_temp]\n",
    "    \n",
    "    # results\n",
    "    def func_pred(x):\n",
    "        ans = 0\n",
    "        for i in range(len(func_list)):\n",
    "            ans += func_list[i](x)\n",
    "        return ans/len(func_list)\n",
    "    if not silence:\n",
    "        print('===========================')\n",
    "        print('Finished learning. Calculating the train error...')\n",
    "    train_loss = 0\n",
    "    test_loss = 0\n",
    "    for i in tqdm(range(n),desc='train data'):\n",
    "        x_pred = func_pred(x_obs[i,:])\n",
    "        train_loss += (x_pred-y_obs[i])**2\n",
    "        \n",
    "    for i in tqdm(range(len(y_test)),desc='test data'):\n",
    "        x_pred = func_pred(x_test[i,:])\n",
    "        test_loss += (x_pred-y_test[i])**2\n",
    "        \n",
    "    print('train loss:{0}'.format((train_loss/n)[0]))\n",
    "    print('test loss:{0}'.format((test_loss/len(y_test))[0]))\n",
    "    #return final_loss/n, loss_list"
   ]
  },
  {
   "cell_type": "markdown",
   "metadata": {},
   "source": [
    "# dataset"
   ]
  },
  {
   "cell_type": "code",
   "execution_count": 3,
   "metadata": {},
   "outputs": [],
   "source": [
    "# load dataset\n",
    "boston = load_boston()\n",
    "df_X = pd.DataFrame(boston.data, columns=boston.feature_names)\n",
    "df_Y = pd.DataFrame(boston.target, columns=['target'])\n",
    "\n",
    "X, Y = df_X.values, df_Y.values"
   ]
  },
  {
   "cell_type": "code",
   "execution_count": 4,
   "metadata": {},
   "outputs": [
    {
     "data": {
      "text/html": [
       "<div>\n",
       "<style scoped>\n",
       "    .dataframe tbody tr th:only-of-type {\n",
       "        vertical-align: middle;\n",
       "    }\n",
       "\n",
       "    .dataframe tbody tr th {\n",
       "        vertical-align: top;\n",
       "    }\n",
       "\n",
       "    .dataframe thead th {\n",
       "        text-align: right;\n",
       "    }\n",
       "</style>\n",
       "<table border=\"1\" class=\"dataframe\">\n",
       "  <thead>\n",
       "    <tr style=\"text-align: right;\">\n",
       "      <th></th>\n",
       "      <th>CRIM</th>\n",
       "      <th>ZN</th>\n",
       "      <th>INDUS</th>\n",
       "      <th>CHAS</th>\n",
       "      <th>NOX</th>\n",
       "      <th>RM</th>\n",
       "      <th>AGE</th>\n",
       "      <th>DIS</th>\n",
       "      <th>RAD</th>\n",
       "      <th>TAX</th>\n",
       "      <th>PTRATIO</th>\n",
       "      <th>B</th>\n",
       "      <th>LSTAT</th>\n",
       "    </tr>\n",
       "  </thead>\n",
       "  <tbody>\n",
       "    <tr>\n",
       "      <th>0</th>\n",
       "      <td>0.00632</td>\n",
       "      <td>18.0</td>\n",
       "      <td>2.31</td>\n",
       "      <td>0.0</td>\n",
       "      <td>0.538</td>\n",
       "      <td>6.575</td>\n",
       "      <td>65.2</td>\n",
       "      <td>4.0900</td>\n",
       "      <td>1.0</td>\n",
       "      <td>296.0</td>\n",
       "      <td>15.3</td>\n",
       "      <td>396.90</td>\n",
       "      <td>4.98</td>\n",
       "    </tr>\n",
       "    <tr>\n",
       "      <th>1</th>\n",
       "      <td>0.02731</td>\n",
       "      <td>0.0</td>\n",
       "      <td>7.07</td>\n",
       "      <td>0.0</td>\n",
       "      <td>0.469</td>\n",
       "      <td>6.421</td>\n",
       "      <td>78.9</td>\n",
       "      <td>4.9671</td>\n",
       "      <td>2.0</td>\n",
       "      <td>242.0</td>\n",
       "      <td>17.8</td>\n",
       "      <td>396.90</td>\n",
       "      <td>9.14</td>\n",
       "    </tr>\n",
       "    <tr>\n",
       "      <th>2</th>\n",
       "      <td>0.02729</td>\n",
       "      <td>0.0</td>\n",
       "      <td>7.07</td>\n",
       "      <td>0.0</td>\n",
       "      <td>0.469</td>\n",
       "      <td>7.185</td>\n",
       "      <td>61.1</td>\n",
       "      <td>4.9671</td>\n",
       "      <td>2.0</td>\n",
       "      <td>242.0</td>\n",
       "      <td>17.8</td>\n",
       "      <td>392.83</td>\n",
       "      <td>4.03</td>\n",
       "    </tr>\n",
       "  </tbody>\n",
       "</table>\n",
       "</div>"
      ],
      "text/plain": [
       "      CRIM    ZN  INDUS  CHAS    NOX     RM   AGE     DIS  RAD    TAX  \\\n",
       "0  0.00632  18.0   2.31   0.0  0.538  6.575  65.2  4.0900  1.0  296.0   \n",
       "1  0.02731   0.0   7.07   0.0  0.469  6.421  78.9  4.9671  2.0  242.0   \n",
       "2  0.02729   0.0   7.07   0.0  0.469  7.185  61.1  4.9671  2.0  242.0   \n",
       "\n",
       "   PTRATIO       B  LSTAT  \n",
       "0     15.3  396.90   4.98  \n",
       "1     17.8  396.90   9.14  \n",
       "2     17.8  392.83   4.03  "
      ]
     },
     "execution_count": 4,
     "metadata": {},
     "output_type": "execute_result"
    }
   ],
   "source": [
    "df_X.head(3)"
   ]
  },
  {
   "cell_type": "code",
   "execution_count": 5,
   "metadata": {},
   "outputs": [
    {
     "data": {
      "text/html": [
       "<div>\n",
       "<style scoped>\n",
       "    .dataframe tbody tr th:only-of-type {\n",
       "        vertical-align: middle;\n",
       "    }\n",
       "\n",
       "    .dataframe tbody tr th {\n",
       "        vertical-align: top;\n",
       "    }\n",
       "\n",
       "    .dataframe thead th {\n",
       "        text-align: right;\n",
       "    }\n",
       "</style>\n",
       "<table border=\"1\" class=\"dataframe\">\n",
       "  <thead>\n",
       "    <tr style=\"text-align: right;\">\n",
       "      <th></th>\n",
       "      <th>target</th>\n",
       "    </tr>\n",
       "  </thead>\n",
       "  <tbody>\n",
       "    <tr>\n",
       "      <th>0</th>\n",
       "      <td>24.0</td>\n",
       "    </tr>\n",
       "    <tr>\n",
       "      <th>1</th>\n",
       "      <td>21.6</td>\n",
       "    </tr>\n",
       "    <tr>\n",
       "      <th>2</th>\n",
       "      <td>34.7</td>\n",
       "    </tr>\n",
       "  </tbody>\n",
       "</table>\n",
       "</div>"
      ],
      "text/plain": [
       "   target\n",
       "0    24.0\n",
       "1    21.6\n",
       "2    34.7"
      ]
     },
     "execution_count": 5,
     "metadata": {},
     "output_type": "execute_result"
    }
   ],
   "source": [
    "df_Y.head(3)"
   ]
  },
  {
   "cell_type": "code",
   "execution_count": 6,
   "metadata": {},
   "outputs": [
    {
     "name": "stderr",
     "output_type": "stream",
     "text": [
      "/Users/KojiMinoda/.pyenv/versions/anaconda3-4.3.1/lib/python3.6/site-packages/sklearn/model_selection/_split.py:2069: FutureWarning: From version 0.21, test_size will always complement train_size unless both are specified.\n",
      "  FutureWarning)\n"
     ]
    }
   ],
   "source": [
    "X_train, X_test, y_train, y_test = train_test_split(X, Y,train_size=0.8)"
   ]
  },
  {
   "cell_type": "markdown",
   "metadata": {},
   "source": [
    "# learning"
   ]
  },
  {
   "cell_type": "code",
   "execution_count": 9,
   "metadata": {},
   "outputs": [
    {
     "name": "stdout",
     "output_type": "stream",
     "text": [
      "===========================\n",
      "Parameters:\n",
      "\n",
      "L2 regularization: lambda = 1e-08\n",
      "gauss range: h = 100\n",
      "# of data for validation: k = 80\n",
      "===========================\n",
      "Start calculating optimal parameters for each step.\n"
     ]
    },
    {
     "data": {
      "application/vnd.jupyter.widget-view+json": {
       "model_id": "e324ce331937485b81a7f0cded44cfde",
       "version_major": 2,
       "version_minor": 0
      },
      "text/plain": [
       "HBox(children=(IntProgress(value=0, max=5), HTML(value='')))"
      ]
     },
     "metadata": {},
     "output_type": "display_data"
    },
    {
     "name": "stdout",
     "output_type": "stream",
     "text": [
      "\n",
      "===========================\n",
      "Finished learning. Calculating the train error...\n"
     ]
    },
    {
     "data": {
      "application/vnd.jupyter.widget-view+json": {
       "model_id": "66acb2e963ac42a0b37b590369227955",
       "version_major": 2,
       "version_minor": 0
      },
      "text/plain": [
       "HBox(children=(IntProgress(value=0, description='train data', max=404, style=ProgressStyle(description_width='…"
      ]
     },
     "metadata": {},
     "output_type": "display_data"
    },
    {
     "name": "stdout",
     "output_type": "stream",
     "text": [
      "\n"
     ]
    },
    {
     "data": {
      "application/vnd.jupyter.widget-view+json": {
       "model_id": "ca05839ff70545c391b29e6cff764037",
       "version_major": 2,
       "version_minor": 0
      },
      "text/plain": [
       "HBox(children=(IntProgress(value=0, description='test data', max=102, style=ProgressStyle(description_width='i…"
      ]
     },
     "metadata": {},
     "output_type": "display_data"
    },
    {
     "name": "stdout",
     "output_type": "stream",
     "text": [
      "\n",
      "train loss:6.023894129723013\n",
      "test loss:11.357379029212519\n"
     ]
    }
   ],
   "source": [
    "cross_validate(X_train,y_train,X_test,y_test,lam=0.00000001,k=80,h=100,silence=False)"
   ]
  },
  {
   "cell_type": "code",
   "execution_count": null,
   "metadata": {},
   "outputs": [],
   "source": []
  }
 ],
 "metadata": {
  "kernelspec": {
   "display_name": "Python 3",
   "language": "python",
   "name": "python3"
  },
  "language_info": {
   "codemirror_mode": {
    "name": "ipython",
    "version": 3
   },
   "file_extension": ".py",
   "mimetype": "text/x-python",
   "name": "python",
   "nbconvert_exporter": "python",
   "pygments_lexer": "ipython3",
   "version": "3.6.7"
  },
  "toc-autonumbering": true
 },
 "nbformat": 4,
 "nbformat_minor": 2
}
