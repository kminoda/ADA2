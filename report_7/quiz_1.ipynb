{
 "cells": [
  {
   "cell_type": "markdown",
   "metadata": {},
   "source": [
    "先端データ解析レポート 第７回  \n",
    "37-196357 蓑田 浩史"
   ]
  },
  {
   "cell_type": "code",
   "execution_count": 17,
   "metadata": {},
   "outputs": [],
   "source": [
    "import numpy as np\n",
    "import matplotlib.pylab as plt"
   ]
  },
  {
   "cell_type": "code",
   "execution_count": 177,
   "metadata": {},
   "outputs": [],
   "source": [
    "def generate_data(sample_size=90, n_class=3):\n",
    "    x = (np.random.normal(size=(sample_size // n_class, n_class))\n",
    "         + np.linspace(-3., 3., n_class)).flatten()\n",
    "    y = np.broadcast_to(np.arange(n_class),\n",
    "                        (sample_size // n_class, n_class)).flatten()\n",
    "    return x, y"
   ]
  },
  {
   "cell_type": "code",
   "execution_count": 178,
   "metadata": {},
   "outputs": [],
   "source": [
    "x, y = generate_data()"
   ]
  },
  {
   "cell_type": "code",
   "execution_count": 179,
   "metadata": {},
   "outputs": [
    {
     "data": {
      "text/plain": [
       "[<matplotlib.lines.Line2D at 0x116e324a8>]"
      ]
     },
     "execution_count": 179,
     "metadata": {},
     "output_type": "execute_result"
    },
    {
     "data": {
      "image/png": "[encoded data removed]",
      "text/plain": [
       "<Figure size 432x288 with 1 Axes>"
      ]
     },
     "metadata": {
      "needs_background": "light"
     },
     "output_type": "display_data"
    }
   ],
   "source": [
    "plt.plot(x[y==0],np.ones(len(x[y==0]))*0)\n",
    "plt.plot(x[y==1],np.ones(len(x[y==1]))*1)\n",
    "plt.plot(x[y==2],np.ones(len(x[y==0]))*2)"
   ]
  },
  {
   "cell_type": "code",
   "execution_count": 180,
   "metadata": {},
   "outputs": [],
   "source": [
    "def update(theta, x, y, eps, func):\n",
    "    i = np.random.randint(len(x))\n",
    "    x_i = x[i]\n",
    "    y_i = y[i]\n",
    "    Phi = np.array([func(x_j,x_i) for x_j in x]).reshape(1,-1)\n",
    "    predict = np.exp([theta[i]@Phi[0] for i in range(len(theta))]).reshape(1,-1)\n",
    "    \n",
    "    plus = Phi.T@np.array([[y_i==i for i in range(len(theta))]])\n",
    "    \n",
    "    delta = - Phi.T@predict/np.sum(predict) + plus\n",
    "    \n",
    "    return theta + eps*delta.T"
   ]
  },
  {
   "cell_type": "code",
   "execution_count": 192,
   "metadata": {},
   "outputs": [],
   "source": [
    "eps = 0.01\n",
    "threshold = 0.0001\n",
    "theta = np.random.randn(3, len(x))\n",
    "h = 1\n",
    "func_gauss = lambda x,y : np.exp(-np.sum((x-y)**2)/2/h**2)\n",
    "\n",
    "converge = False\n",
    "count = 0\n",
    "\n",
    "while not converge:\n",
    "    count += 1\n",
    "    theta_prev = theta\n",
    "    theta = update(theta_prev, x, y, eps, func_gauss)\n",
    "    if np.linalg.norm(theta-theta_prev)<threshold:\n",
    "        converge = True"
   ]
  },
  {
   "cell_type": "code",
   "execution_count": 193,
   "metadata": {},
   "outputs": [],
   "source": [
    "def predict(x_test, x, theta, func):\n",
    "    Phi = np.array([func(x_j,x_test) for x_j in x]).reshape(1,-1)\n",
    "    Ys = Phi@theta.T\n",
    "    return np.argmax(Ys[0])"
   ]
  },
  {
   "cell_type": "code",
   "execution_count": 209,
   "metadata": {},
   "outputs": [],
   "source": [
    "X_test = [0.1*i-5 for i in range(100)]\n",
    "y_test = []\n",
    "for x_test in X_test:\n",
    "    y_test.append(predict(x_test, x, theta, func_gauss)+0.02)"
   ]
  },
  {
   "cell_type": "code",
   "execution_count": 210,
   "metadata": {},
   "outputs": [
    {
     "data": {
      "text/plain": [
       "<matplotlib.legend.Legend at 0x11772af28>"
      ]
     },
     "execution_count": 210,
     "metadata": {},
     "output_type": "execute_result"
    },
    {
     "data": {
      "image/png": "[encoded data removed]",
      "text/plain": [
       "<Figure size 432x288 with 1 Axes>"
      ]
     },
     "metadata": {
      "needs_background": "light"
     },
     "output_type": "display_data"
    }
   ],
   "source": [
    "plt.title('prediction by trained model')\n",
    "plt.scatter(X_test, y_test, label='prediction')\n",
    "plt.scatter(x, y, label='train data')\n",
    "plt.xlabel('x')\n",
    "plt.ylabel('y')\n",
    "plt.legend()"
   ]
  },
  {
   "cell_type": "code",
   "execution_count": null,
   "metadata": {},
   "outputs": [],
   "source": []
  }
 ],
 "metadata": {
  "kernelspec": {
   "display_name": "Python 3",
   "language": "python",
   "name": "python3"
  },
  "language_info": {
   "codemirror_mode": {
    "name": "ipython",
    "version": 3
   },
   "file_extension": ".py",
   "mimetype": "text/x-python",
   "name": "python",
   "nbconvert_exporter": "python",
   "pygments_lexer": "ipython3",
   "version": "3.6.7"
  }
 },
 "nbformat": 4,
 "nbformat_minor": 2
}
