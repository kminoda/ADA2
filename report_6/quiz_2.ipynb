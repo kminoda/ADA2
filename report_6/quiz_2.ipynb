{
 "cells": [
  {
   "cell_type": "code",
   "execution_count": 1,
   "metadata": {},
   "outputs": [],
   "source": [
    "import numpy as np\n",
    "import matplotlib.pylab as plt"
   ]
  },
  {
   "cell_type": "code",
   "execution_count": 154,
   "metadata": {},
   "outputs": [],
   "source": [
    "center_1 = [1,2]\n",
    "center_2 = [2,3]\n",
    "class_1 = np.random.randn(100,2)/4+center_1\n",
    "class_2 = np.random.randn(100,2)/4+center_2"
   ]
  },
  {
   "cell_type": "code",
   "execution_count": 155,
   "metadata": {},
   "outputs": [],
   "source": [
    "X_train = np.vstack([class_1,class_2])\n",
    "y_train = np.array([(i>99)*2.0-1.0 for i in range(len(X_train))])"
   ]
  },
  {
   "cell_type": "code",
   "execution_count": 156,
   "metadata": {},
   "outputs": [
    {
     "data": {
      "text/plain": [
       "<matplotlib.collections.PathCollection at 0x120833898>"
      ]
     },
     "execution_count": 156,
     "metadata": {},
     "output_type": "execute_result"
    },
    {
     "data": {
      "image/png": "[encoded data removed]",
      "text/plain": [
       "<Figure size 432x288 with 1 Axes>"
      ]
     },
     "metadata": {
      "needs_background": "light"
     },
     "output_type": "display_data"
    }
   ],
   "source": [
    "plt.scatter(class_1[:,0],class_1[:,1])\n",
    "plt.scatter(class_2[:,0],class_2[:,1])"
   ]
  },
  {
   "cell_type": "markdown",
   "metadata": {},
   "source": [
    "$$\n",
    "\\theta \\leftarrow \\theta - \\varepsilon\\left( \\sum_{i=1}^n \\partial \\max(0,1-f_{\\theta}(x_i)y_i) + \\lambda R\\theta\\right)\n",
    "$$"
   ]
  },
  {
   "cell_type": "code",
   "execution_count": 157,
   "metadata": {},
   "outputs": [],
   "source": [
    "def update(x,y,theta_now,eps,lmd):\n",
    "    temp = 0\n",
    "    for i in range(len(x)):\n",
    "        temp += get_partial(theta_now,x[i],y[i])\n",
    "    R = np.eye(len(theta_now))\n",
    "    theta_next = theta_now - eps*(temp + lmd*R@theta_now)\n",
    "    return theta_next"
   ]
  },
  {
   "cell_type": "code",
   "execution_count": 158,
   "metadata": {},
   "outputs": [],
   "source": [
    "def get_K(x,sigma=1):\n",
    "    n = len(x)\n",
    "    K = np.zeros([n,n])\n",
    "    for i in range(n):\n",
    "        for j in range(n):\n",
    "            K[i,j] = np.exp(-np.sum((x[i]-x[j])**2)/(2*sigma**2))\n",
    "    return K"
   ]
  },
  {
   "cell_type": "code",
   "execution_count": 159,
   "metadata": {},
   "outputs": [],
   "source": [
    "def get_partial(theta,x,y):\n",
    "    if theta.T@x*y<1:\n",
    "        return -y*x\n",
    "    else:\n",
    "        return np.zeros(len(x))"
   ]
  },
  {
   "cell_type": "code",
   "execution_count": 160,
   "metadata": {},
   "outputs": [],
   "source": [
    "def func(x,w,b):\n",
    "    y = (-w[0]*x-b)/w[1]\n",
    "    return y"
   ]
  },
  {
   "cell_type": "code",
   "execution_count": 161,
   "metadata": {},
   "outputs": [],
   "source": [
    "def main(x,y,eps=0.001,lmd=0.01,threshold=0.01):\n",
    "    n,m = x.shape\n",
    "    \n",
    "    w = np.random.randn(m)\n",
    "    b = np.random.randn(1)\n",
    "    theta = np.hstack([w,b])\n",
    "    \n",
    "    ones = np.ones([n,1])\n",
    "    x = np.hstack([x,ones])\n",
    "    \n",
    "    count = 0\n",
    "    while(True):\n",
    "        count += 1\n",
    "        theta_next = update(x,y,theta,eps,lmd)\n",
    "        if np.linalg.norm(theta_next-theta)<threshold:\n",
    "            break\n",
    "        theta = theta_next\n",
    "    \n",
    "    return theta[:m],theta[-1]"
   ]
  },
  {
   "cell_type": "code",
   "execution_count": 162,
   "metadata": {},
   "outputs": [],
   "source": [
    "w,b = main(X_train,y_train)"
   ]
  },
  {
   "cell_type": "code",
   "execution_count": 163,
   "metadata": {},
   "outputs": [],
   "source": [
    "x = np.arange(1,2.,0.1)\n",
    "y = func(x,w,b)"
   ]
  },
  {
   "cell_type": "code",
   "execution_count": 164,
   "metadata": {},
   "outputs": [
    {
     "data": {
      "text/plain": [
       "[<matplotlib.lines.Line2D at 0x12094aac8>]"
      ]
     },
     "execution_count": 164,
     "metadata": {},
     "output_type": "execute_result"
    },
    {
     "data": {
      "image/png": "[encoded data removed]",
      "text/plain": [
       "<Figure size 432x288 with 1 Axes>"
      ]
     },
     "metadata": {
      "needs_background": "light"
     },
     "output_type": "display_data"
    }
   ],
   "source": [
    "plt.scatter(class_1[:,0],class_1[:,1])\n",
    "plt.scatter(class_2[:,0],class_2[:,1])\n",
    "plt.plot(x,y)"
   ]
  },
  {
   "cell_type": "code",
   "execution_count": null,
   "metadata": {},
   "outputs": [],
   "source": []
  }
 ],
 "metadata": {
  "kernelspec": {
   "display_name": "Python 3",
   "language": "python",
   "name": "python3"
  },
  "language_info": {
   "codemirror_mode": {
    "name": "ipython",
    "version": 3
   },
   "file_extension": ".py",
   "mimetype": "text/x-python",
   "name": "python",
   "nbconvert_exporter": "python",
   "pygments_lexer": "ipython3",
   "version": "3.6.7"
  }
 },
 "nbformat": 4,
 "nbformat_minor": 2
}
